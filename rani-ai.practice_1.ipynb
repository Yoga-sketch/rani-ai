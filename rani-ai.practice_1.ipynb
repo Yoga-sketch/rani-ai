{
 "cells": [
  {
   "cell_type": "markdown",
   "metadata": {},
   "source": [
    "#### List\n",
    "#### Sum of all the numbers in the list"
   ]
  },
  {
   "cell_type": "code",
   "execution_count": 1,
   "metadata": {},
   "outputs": [
    {
     "name": "stdout",
     "output_type": "stream",
     "text": [
      "10\n"
     ]
    }
   ],
   "source": [
    "my_number_list = [1, 2, 3, 4]\n",
    "my_sum = 0\n",
    "for i in my_number_list:\n",
    "    my_sum += i\n",
    "print(my_sum)"
   ]
  },
  {
   "cell_type": "markdown",
   "metadata": {},
   "source": [
    "#### Nested List\n",
    "#### To find common elements in the nested lists"
   ]
  },
  {
   "cell_type": "code",
   "execution_count": 2,
   "metadata": {},
   "outputs": [
    {
     "name": "stdout",
     "output_type": "stream",
     "text": [
      "[18, 12]\n"
     ]
    }
   ],
   "source": [
    "my_list = [[12, 18, 23, 25, 45], [7, 12, 18, 24, 28], [1, 5, 8, 12, 15, 16, 18]]\n",
    "Common_list=[]\n",
    "my_dict={}\n",
    "for i in my_list:\n",
    "    for j in i:\n",
    "        if j not in my_dict:\n",
    "            my_dict[j]=1\n",
    "        else:\n",
    "            Common_list.append(j)\n",
    "print(list(set(Common_list)))"
   ]
  },
  {
   "cell_type": "markdown",
   "metadata": {},
   "source": [
    "#### Dictionary\n",
    "#### Total score of all subjects"
   ]
  },
  {
   "cell_type": "code",
   "execution_count": 3,
   "metadata": {},
   "outputs": [
    {
     "name": "stdout",
     "output_type": "stream",
     "text": [
      "180\n"
     ]
    }
   ],
   "source": [
    "my_dict={'Maths':50,'English':60,'Science':70}\n",
    "sum_score=0\n",
    "for i in my_dict:\n",
    "    sum_score += my_dict[i]\n",
    "print(sum_score)"
   ]
  },
  {
   "cell_type": "markdown",
   "metadata": {},
   "source": [
    "#### Nested dictionary\n",
    "#### Getting percentage for each student"
   ]
  },
  {
   "cell_type": "code",
   "execution_count": 4,
   "metadata": {},
   "outputs": [
    {
     "name": "stdout",
     "output_type": "stream",
     "text": [
      "Name of student: Anita 60.0\n",
      "Name of student: Biswas 80.0\n",
      "Name of student: Sneha 50.0\n"
     ]
    }
   ],
   "source": [
    "my_dict={'Anita':{'Maths':50,'English':60,'Science':70},'Biswas':{'Maths':90,'English':80,'Science':70},\\\n",
    "         'Sneha':{'Maths':40,'English':20,'Science':90}}\n",
    "\n",
    "for i in my_dict:\n",
    "    sum_score=0\n",
    "    for j in my_dict[i]:\n",
    "        sum_score += my_dict[i][j]\n",
    "    percent = (sum_score/300)*100\n",
    "    print('Name of student:',i, percent)"
   ]
  },
  {
   "cell_type": "markdown",
   "metadata": {},
   "source": [
    "#### Finding the minimum from the list of numbers\n",
    "#### Approach1"
   ]
  },
  {
   "cell_type": "code",
   "execution_count": 7,
   "metadata": {},
   "outputs": [
    {
     "name": "stdout",
     "output_type": "stream",
     "text": [
      "-3\n"
     ]
    }
   ],
   "source": [
    "\n",
    "my_number_list = [1, 2, 3, 4,2,0,-1,-3]\n",
    "first_time=False\n",
    "for v in my_number_list:\n",
    "    if first_time == False:\n",
    "        local_min=v\n",
    "        first_time = True\n",
    "    else:\n",
    "        local_min=min(local_min, v)\n",
    "print(local_min)"
   ]
  },
  {
   "cell_type": "markdown",
   "metadata": {},
   "source": [
    "#### Approach 2"
   ]
  },
  {
   "cell_type": "code",
   "execution_count": 17,
   "metadata": {},
   "outputs": [
    {
     "name": "stdout",
     "output_type": "stream",
     "text": [
      "-3\n"
     ]
    }
   ],
   "source": [
    "local_min = 'no data'\n",
    "if len(my_number_list)==1:\n",
    "    local_min=my_number_list[0]\n",
    "for i in range(len(my_number_list)-1):\n",
    "    if my_number_list[i]<my_number_list[i+1]:\n",
    "        local_min=my_number_list[i]\n",
    "    else:\n",
    "        local_min=my_number_list[i+1]\n",
    "print(local_min)"
   ]
  }
 ],
 "metadata": {
  "kernelspec": {
   "display_name": "Python 3",
   "language": "python",
   "name": "python3"
  },
  "language_info": {
   "codemirror_mode": {
    "name": "ipython",
    "version": 3
   },
   "file_extension": ".py",
   "mimetype": "text/x-python",
   "name": "python",
   "nbconvert_exporter": "python",
   "pygments_lexer": "ipython3",
   "version": "3.8.3"
  }
 },
 "nbformat": 4,
 "nbformat_minor": 4
}
